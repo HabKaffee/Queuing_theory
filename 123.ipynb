{
 "cells": [
  {
   "cell_type": "code",
   "execution_count": null,
   "metadata": {},
   "outputs": [],
   "source": [
    "import time\n",
    "import numpy as np\n",
    "import matplotlib.pyplot as plt"
   ]
  },
  {
   "cell_type": "code",
   "execution_count": null,
   "metadata": {},
   "outputs": [],
   "source": [
    "def print_metrix(parameters, avg_t_t, lost_cust_p, waiting_cust_p, avg_len, wasted_t_p):\n",
    "    _, axs = plt.subplots(3, 2,figsize=(15,10))\n",
    "\n",
    "    axs[0][0].plot(parameters, avg_t_t)\n",
    "    axs[0][0].set_title('Среднее время нахождения в очереди')\n",
    "\n",
    "    axs[0][1].plot(parameters, lost_cust_p)\n",
    "    axs[0][1].set_title('Вероятность отказа')\n",
    "\n",
    "    axs[1][0].plot(parameters, waiting_cust_p)\n",
    "    axs[1][0].set_title('Вероятность ожидания')\n",
    "\n",
    "    axs[1][1].plot(parameters, avg_len)\n",
    "    axs[1][1].set_title('Средняя длина очереди')\n",
    "\n",
    "    axs[2][0].plot(parameters, wasted_t_p)\n",
    "    axs[2][0].set_title('Вероятность простоя системы')\n"
   ]
  },
  {
   "cell_type": "code",
   "execution_count": 146,
   "metadata": {},
   "outputs": [],
   "source": [
    "def get_poisson_time(param):\n",
    "    s = 0\n",
    "    while s == 0:\n",
    "        s = np.random.poisson(param)\n",
    "    return s\n",
    "\n",
    "\n",
    "def MM1Ksimulation(capacity = 1, lmbd = 1, mu = 1, timeout = 1):\n",
    "    assert capacity, \"Max length of queue should be greater than 0\"\n",
    "    assert lmbd and mu, \"Your model parameters lambda and mu should be greater than 0\"\n",
    "    assert timeout, \"Your experiment time should be greater than 0\"\n",
    "\n",
    "    queue, arrival_time, departure_time, num_in_q, waiting_time, wasted_time = [], [], [], [], [], []\n",
    "    total_customers, lost_customers, total_served, waiting_customers = 0, 0, 0, 0\n",
    "\n",
    "    # Compute time of next arrival.\n",
    "    nextArrival = get_poisson_time(lmbd)\n",
    "\n",
    "    # Compute time of next completed service.\n",
    "    nextService = nextArrival + get_poisson_time(mu)\n",
    "\n",
    "    # Simulate the M/M/1 queue.\n",
    "    timeout_start = time.time() \n",
    "    while time.time() < timeout_start + timeout:\n",
    "        # Next event is an arrival.\n",
    "        while nextArrival < nextService:\n",
    "            # Simulate an arrival\n",
    "            if len(queue) < capacity:\n",
    "                queue.append(nextArrival)\n",
    "                arrival_time.append(nextArrival)\n",
    "                total_customers += 1\n",
    "                num_in_q.append(len(queue))\n",
    "                if(len(queue)):\n",
    "                    waiting_customers += 1      \n",
    "            else:\n",
    "                lost_customers  += 1\n",
    "                total_customers += 1\n",
    "            nextArrival += get_poisson_time(lmbd)\n",
    "\n",
    "        # Next event is a service completion.\n",
    "        arrival = queue.pop(0)\n",
    "        total_served += 1\n",
    "        departure_time.append(nextService)\n",
    "        waiting_time.append(nextService - arrival)\n",
    "        num_in_q.append(len(queue))\n",
    "\n",
    "        # Update the queue.\n",
    "        if not queue:\n",
    "            nextService = nextArrival + get_poisson_time(mu)\n",
    "        else:\n",
    "            nextService = nextService + get_poisson_time(mu)\n",
    "    num_of_customers = len(arrival_time)\n",
    "    arrival_time = arrival_time[:len(departure_time)]\n",
    "    \n",
    "    for i in range(1, len(departure_time)):\n",
    "        if ((arrival_time[i]-departure_time[i-1])>0):\n",
    "            wasted_time.append(arrival_time[i]-departure_time[i-1])\n",
    "    return      np.mean(waiting_time),              \\\n",
    "                lost_customers/total_customers,     \\\n",
    "                waiting_customers/num_of_customers, \\\n",
    "                np.mean(num_in_q),                  \\\n",
    "                sum(wasted_time)/departure_time[-1]"
   ]
  },
  {
   "cell_type": "markdown",
   "metadata": {},
   "source": [
    "Just use"
   ]
  },
  {
   "cell_type": "code",
   "execution_count": 165,
   "metadata": {},
   "outputs": [
    {
     "name": "stdout",
     "output_type": "stream",
     "text": [
      "Среднее время пребывания в системе 1.0055555555555555\n",
      "Вероятность ухода посетителя 0.0055248618784530384\n",
      "Вероятность ожидания 1.0\n",
      "Среднее количество людей в очереди 0.5\n",
      "Вероятность простоя системы 0.0015748031496062992\n"
     ]
    }
   ],
   "source": [
    "avg_total_time,         \\\n",
    "lost_customers_prob,    \\\n",
    "waiting_customers_prob, \\\n",
    "avg_num_in_q,           \\\n",
    "wasted_time_prob        = MM1Ksimulation(capacity = 1, lmbd = 0.003, mu = 0.01, timeout = 1)\n",
    "print(\"Среднее время пребывания в системе\",avg_total_time)\n",
    "print(\"Вероятность ухода посетителя\",lost_customers_prob)\n",
    "print(\"Вероятность ожидания\", waiting_customers_prob)\n",
    "print(\"Среднее количество людей в очереди\",avg_num_in_q)\n",
    "print(\"Вероятность простоя системы\",wasted_time_prob)"
   ]
  },
  {
   "cell_type": "markdown",
   "metadata": {},
   "source": [
    "**lambda = mu**"
   ]
  },
  {
   "cell_type": "code",
   "execution_count": null,
   "metadata": {},
   "outputs": [],
   "source": [
    "avg_t_t, lost_cust_p, waiting_cust_p, avg_len, wasted_t_p = [], [], [], [], []\n",
    "\n",
    "parameters = np.arange(0.01, 10, 0.01)\n",
    "for mu in parameters:\n",
    "    lmbd = mu\n",
    "    np.random.seed(int(lmbd*100))\n",
    "    avg_total_time, lost_customers_prob, waiting_customers_prob, avg_num_in_q, wasted_time_prob = MM1Ksimulation(capacity = 10, lmbd = lmbd, mu = mu, timeout = 0.05)\n",
    "    avg_t_t.append(avg_total_time)\n",
    "    lost_cust_p.append(lost_customers_prob)\n",
    "    waiting_cust_p.append(waiting_customers_prob)\n",
    "    avg_len.append(avg_num_in_q)\n",
    "    wasted_t_p.append(wasted_time_prob)\n",
    "\n",
    "print_metrix(parameters, avg_t_t, lost_cust_p, waiting_cust_p, avg_len, wasted_t_p)"
   ]
  },
  {
   "cell_type": "markdown",
   "metadata": {},
   "source": [
    "**lambda<mu**"
   ]
  },
  {
   "cell_type": "code",
   "execution_count": null,
   "metadata": {},
   "outputs": [],
   "source": [
    "avg_t_t, lost_cust_p, waiting_cust_p, avg_len, wasted_t_p =[], [], [], [], []\n",
    "mu = 5\n",
    "parameters = np.arange(0.01, mu/2, 0.01)\n",
    "for lmbd in parameters:\n",
    "    np.random.seed(int(lmbd*100))\n",
    "    avg_total_time, lost_customers_prob, waiting_customers_prob, avg_num_in_q, wasted_time_prob = MM1Ksimulation(capacity = 10, lmbd = lmbd, mu = mu, timeout = 0.05)\n",
    "    avg_t_t.append(avg_total_time)\n",
    "    lost_cust_p.append(lost_customers_prob)\n",
    "    waiting_cust_p.append(waiting_customers_prob)\n",
    "    avg_len.append(avg_num_in_q)\n",
    "    wasted_t_p.append(wasted_time_prob)\n",
    "\n",
    "print_metrix(parameters, avg_t_t, lost_cust_p, waiting_cust_p, avg_len, wasted_t_p)"
   ]
  },
  {
   "cell_type": "markdown",
   "metadata": {},
   "source": [
    "**lambda>mu**"
   ]
  },
  {
   "cell_type": "code",
   "execution_count": null,
   "metadata": {},
   "outputs": [],
   "source": [
    "#metrics\n",
    "avg_t_t,lost_cust_p,waiting_cust_p,avg_len,wasted_t_p =[],[],[],[],[]\n",
    "lmbd = 5\n",
    "parameters = np.arange(0.01, lmbd/2, 0.01)\n",
    "for mu in parameters:\n",
    "    np.random.seed(int(mu*100))\n",
    "    avg_total_time, lost_customers_prob, waiting_customers_prob, avg_num_in_q, wasted_time_prob = MM1Ksimulation(10, lmbd, mu, 0.05)\n",
    "    avg_t_t.append(avg_total_time)\n",
    "    lost_cust_p.append(lost_customers_prob)\n",
    "    waiting_cust_p.append(waiting_customers_prob)\n",
    "    avg_len.append(avg_num_in_q)\n",
    "    wasted_t_p.append(wasted_time_prob)\n",
    "\n",
    "print_metrix(parameters, avg_t_t, lost_cust_p, waiting_cust_p, avg_len, wasted_t_p)"
   ]
  },
  {
   "cell_type": "markdown",
   "metadata": {},
   "source": [
    "**Зафиксируем lambda=5 и mu=2.5 и проведем эксперименты с различными длинами очереди**"
   ]
  },
  {
   "cell_type": "code",
   "execution_count": null,
   "metadata": {},
   "outputs": [],
   "source": [
    "#metrics\n",
    "avg_t_t,lost_cust_p,waiting_cust_p,avg_len,wasted_t_p =[],[],[],[],[]\n",
    "capacity = 100\n",
    "parameters = np.arange(1, capacity, 1)\n",
    "for cap in parameters:\n",
    "    np.random.seed(int(cap*100))\n",
    "    avg_total_time, lost_customers_prob, waiting_customers_prob, avg_num_in_q, wasted_time_prob = MM1Ksimulation(cap, 3, 3, 0.05)\n",
    "    avg_t_t.append(avg_total_time)\n",
    "    lost_cust_p.append(lost_customers_prob)\n",
    "    waiting_cust_p.append(waiting_customers_prob)\n",
    "    avg_len.append(avg_num_in_q)\n",
    "    wasted_t_p.append(wasted_time_prob)\n",
    "    \n",
    "print_metrix(parameters, avg_t_t, lost_cust_p, waiting_cust_p, avg_len, wasted_t_p)"
   ]
  },
  {
   "cell_type": "code",
   "execution_count": 135,
   "metadata": {},
   "outputs": [],
   "source": [
    "def get_rand(param):\n",
    "    s = 0\n",
    "    while s == 0:\n",
    "        s = np.random.poisson(param)\n",
    "    return s\n",
    "\n",
    "\n",
    "def MM1Ksimulation(capacity = 1, lmbd = 1, mu = 1, timeout = 1):\n",
    "    assert capacity, \"Max length of queue should be greater than 0\"\n",
    "    assert lmbd and mu, \"Your model parameters lambda and mu should be greater than 0\"\n",
    "    assert timeout, \"Your experiment time should be greater than 0\"\n",
    "\n",
    "    queue, arrival_time, departure_time, num_in_q, waiting_time, wasted_time = [], [], [], [], [], []\n",
    "    total_customers, lost_customers, total_served, waiting_customers = 0, 0, 0, 0\n",
    "\n",
    "    # Compute time of next arrival.\n",
    "    nextArrival = get_rand(lmbd) #16\n",
    "\n",
    "    # Compute time of next completed service.\n",
    "    nextService = nextArrival + get_rand(mu)# 16+15\n",
    "\n",
    "    print(nextArrival, nextService)\n",
    "\n",
    "    # Simulate the M/M/1 queue.\n",
    "    timeout_start = time.time() \n",
    "    while time.time() < timeout_start + timeout:\n",
    "        # Next event is an arrival.\n",
    "        while nextArrival < nextService:\n",
    "            # Simulate an arrival\n",
    "            if len(queue) < capacity:\n",
    "                queue.append(nextArrival)\n",
    "                arrival_time.append(nextArrival)\n",
    "                print(\"+\")\n",
    "                total_customers += 1\n",
    "                num_in_q.append(len(queue))\n",
    "                if(len(queue)):\n",
    "                    waiting_customers += 1      \n",
    "            else:\n",
    "                lost_customers  += 1\n",
    "                print(\"*\")\n",
    "                total_customers += 1\n",
    "            nextArrival += get_rand(lmbd)\n",
    "\n",
    "        # Next event is a service completion.\n",
    "\n",
    "        arrival = queue.pop(0)\n",
    "        print(\"-\")\n",
    "        total_served += 1\n",
    "        departure_time.append(nextService)\n",
    "        waiting_time.append(nextService - arrival)\n",
    "        num_in_q.append(len(queue))\n",
    "\n",
    "        # Update the queue.\n",
    "        if len(queue) == 0:\n",
    "            nextService = nextArrival + get_rand(mu)\n",
    "        else:\n",
    "            nextService = nextService + get_rand(mu)\n",
    "            print(nextService)\n",
    "    num_of_customers = len(arrival_time)\n",
    "    arrival_time = arrival_time[:len(departure_time)]\n",
    "    \n",
    "    for i in range(1, len(departure_time)):\n",
    "        if ((arrival_time[i]-departure_time[i-1])>0):\n",
    "            wasted_time.append(arrival_time[i]-departure_time[i-1])\n",
    "    print(f\"{total_customers} = {total_served} + {lost_customers} + {len(queue)}\")\n",
    "    return      np.mean(waiting_time),              \\\n",
    "                lost_customers/total_customers,     \\\n",
    "                waiting_customers/num_of_customers, \\\n",
    "                np.mean(num_in_q),                  \\\n",
    "                sum(wasted_time)/departure_time[-1]"
   ]
  },
  {
   "cell_type": "code",
   "execution_count": 154,
   "metadata": {},
   "outputs": [],
   "source": [
    "def print_nikitas_penis():\n",
    "    avg_total_time,         \\\n",
    "    lost_customers_prob,    \\\n",
    "    waiting_customers_prob, \\\n",
    "    avg_num_in_q,           \\\n",
    "    wasted_time_prob        = MM1Ksimulation(capacity = 25, lmbd = 3, mu = 3, timeout = 1)\n",
    "    print(\"Среднее время пребывания в системе\",avg_total_time)\n",
    "    print(\"Вероятность ухода посетителя\",lost_customers_prob)\n",
    "    print(\"Вероятность ожидания\", waiting_customers_prob)\n",
    "    print(\"Среднее количество людей в очереди\",avg_num_in_q)\n",
    "    print(\"Вероятность простоя системы\",wasted_time_prob)\n",
    "\n"
   ]
  },
  {
   "cell_type": "code",
   "execution_count": null,
   "metadata": {},
   "outputs": [],
   "source": []
  },
  {
   "cell_type": "code",
   "execution_count": null,
   "metadata": {},
   "outputs": [],
   "source": []
  }
 ],
 "metadata": {
  "kernelspec": {
   "display_name": "Python 3",
   "language": "python",
   "name": "python3"
  },
  "language_info": {
   "codemirror_mode": {
    "name": "ipython",
    "version": 3
   },
   "file_extension": ".py",
   "mimetype": "text/x-python",
   "name": "python",
   "nbconvert_exporter": "python",
   "pygments_lexer": "ipython3",
   "version": "3.10.2"
  }
 },
 "nbformat": 4,
 "nbformat_minor": 4
}
