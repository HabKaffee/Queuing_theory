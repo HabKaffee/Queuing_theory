{
 "cells": [
  {
   "cell_type": "markdown",
   "metadata": {},
   "source": [
    "# Model M/M/1/N"
   ]
  },
  {
   "cell_type": "markdown",
   "metadata": {},
   "source": [
    "<img src=\"include/jpTi8JZkULY.jpg\">"
   ]
  },
  {
   "cell_type": "markdown",
   "metadata": {},
   "source": [
    "$$\\Omega = \\big\\{ \\omega = \\big\\{ \\omega_{1}, \\omega_{2}, ... , \\omega_{n}, ... \\big\\}: \\omega_{i} \\in \\big\\{0,1\\big\\} \\big\\}$$\n",
    "$$\\omega_{i} = \\text{1 - at the time } t_{i} \\text{ request arrives}$$\n",
    "$$\\omega_{i} = \\text{0 - at the time } t_{i} \\text{ request goes away}$$\n",
    "$$F = 2^{ \\Omega } $$\n",
    "$$P \\big( \\big\\{ \\omega_{ i } = 1 \\big\\} \\big) = \\frac{ \\lambda }{ \\lambda + \\mu } $$\n",
    "$$P \\big( \\big\\{ \\omega_{ i } = 0 \\big\\} \\big) = \\frac{ \\mu }{ \\lambda + \\mu }$$"
   ]
  },
  {
   "cell_type": "markdown",
   "metadata": {},
   "source": [
    "*Transition rate matrix:*"
   ]
  },
  {
   "cell_type": "markdown",
   "metadata": {},
   "source": [
    "$$\\mathbb{P} = \\begin{bmatrix}\\quad & \\big(0\\big) & \\big(1\\big) & \\big(2\\big) & \\big(3\\big) & ... & \\big(N-1\\big) & \\big(N\\big) \\\\ \\big(0\\big) & 0 & \\frac{ \\lambda }{ \\lambda + \\mu } & 0 & 0 & ... & 0 & 0 \\\\ \\big(1\\big) & \\frac{ \\mu }{ \\lambda + \\mu } & 0 & \\frac{ \\lambda }{ \\lambda + \\mu } & 0 & ... & 0 & 0 \\\\ \\big(2\\big) & 0 & \\frac{ \\mu }{ \\lambda + \\mu } & 0 & \\frac{ \\lambda }{ \\lambda + \\mu } & ... & 0 & 0 \\\\ \\big(3\\big) & 0 & 0 & \\frac{ \\mu }{ \\lambda + \\mu } & 0 & ... & 0 & 0 \\\\ ... & ... & ... & ... & ... & ... & ... & ... \\\\ \\big(N-1\\big) & 0 & 0 & 0 & 0 & ... & 0 & \\frac{ \\lambda }{ \\mu + \\lambda } \\\\ \\big(N\\big) & 0 & 0 & 0 & 0 & ... & \\frac{ \\mu }{ \\lambda + \\mu } & 0 \\end{bmatrix}$$"
   ]
  },
  {
   "cell_type": "markdown",
   "metadata": {},
   "source": [
    "*Get stationary distribution*"
   ]
  },
  {
   "cell_type": "markdown",
   "metadata": {},
   "source": [
    "$$\\Pi_{0} = \\frac{1}{ \\sum_{i = 0}^{n} \\sum_{j = 0}^{i} \\big( \\frac{ \\lambda }{ \\mu } \\big)^j }$$\n",
    "$$ \\Pi_{i} = \\Pi_{i - 1 } + \\big( \\frac{ \\lambda }{ \\mu } \\big)^{i} \\Pi_{0}$$"
   ]
  },
  {
   "cell_type": "code",
   "execution_count": 15,
   "metadata": {},
   "outputs": [
    {
     "data": {
      "text/plain": [
       "0.1033057851239669"
      ]
     },
     "execution_count": 15,
     "metadata": {},
     "output_type": "execute_result"
    }
   ],
   "source": [
    "def get_stationary_distribution(lmbda = 1/5, mu = 1/7, cap = 3):\n",
    "    suma = 0\n",
    "    for i in range(cap):\n",
    "        for j in range(i+1):\n",
    "            suma += (lmbda / mu) ** i\n",
    "    pi_0 = 1/ suma\n",
    "    return pi_0\n",
    "\n",
    "get_stationary_distribution()"
   ]
  },
  {
   "cell_type": "markdown",
   "metadata": {},
   "source": [
    "# Model definition"
   ]
  },
  {
   "cell_type": "code",
   "execution_count": null,
   "metadata": {},
   "outputs": [],
   "source": [
    "import time\n",
    "import numpy as np\n",
    "import random\n",
    "import matplotlib.pyplot as plt"
   ]
  },
  {
   "cell_type": "code",
   "execution_count": null,
   "metadata": {},
   "outputs": [],
   "source": [
    "def get_next_time(param):\n",
    "    s = 0\n",
    "    while s == 0:\n",
    "        # Interval between arrivals averaging (1/param) seconds\n",
    "        s = random.expovariate(param)\n",
    "    return s\n",
    "\n",
    "\n",
    "def MM1Ksimulation(capacity = 1, lmbd:float = 1, mu:float = 1, timeout = 1):\n",
    "    assert capacity, \"Max length of queue should be greater than 0\"\n",
    "    assert lmbd > 0 and mu > 0, \"Your model parameters lambda and mu should be greater than 0\"\n",
    "    assert timeout, \"Your experiment time should be greater than 0\"\n",
    "\n",
    "    queue, arrival_time, departure_time, num_in_q, waiting_time, wasted_time = [], [], [], [], [], []\n",
    "    total_customers, lost_customers, total_served, waiting_customers = 0, 0, 0, 0\n",
    "\n",
    "    # Compute time of next arrival.\n",
    "    nextArrival = get_next_time(lmbd)\n",
    "\n",
    "    # TODO(HabKaffee): входной поток - пуассоновский, задержка между приходами и сорвисом - экспонента ???\n",
    "\n",
    "    # Compute time of next completed service.\n",
    "    nextService = nextArrival + get_next_time(mu)\n",
    "\n",
    "    # Simulate the M/M/1 queue.\n",
    "    timeout_start = time.time() \n",
    "    while time.time() < timeout_start + timeout:\n",
    "        # Next event is an arrival.\n",
    "        while nextArrival < nextService:\n",
    "            # Simulate an arrival\n",
    "            if len(queue) < capacity:\n",
    "                queue.append(nextArrival)\n",
    "                arrival_time.append(nextArrival)\n",
    "                total_customers += 1\n",
    "                num_in_q.append(len(queue))\n",
    "                if(len(queue)):\n",
    "                    waiting_customers += 1      \n",
    "            else:\n",
    "                lost_customers  += 1\n",
    "                total_customers += 1\n",
    "            nextArrival += get_next_time(lmbd)\n",
    "\n",
    "        # Next event is a service completion.\n",
    "        arrival = queue.pop(0)\n",
    "        total_served += 1\n",
    "        departure_time.append(nextService)\n",
    "        waiting_time.append(nextService - arrival)\n",
    "        num_in_q.append(len(queue))\n",
    "\n",
    "        # Update the queue.\n",
    "        if not queue:\n",
    "            nextService = nextArrival + get_next_time(mu)\n",
    "        else:\n",
    "            nextService = nextService + get_next_time(mu)\n",
    "    num_of_customers = len(arrival_time)\n",
    "    arrival_time = arrival_time[:len(departure_time)]\n",
    "    \n",
    "    for i in range(1, len(departure_time)):\n",
    "        if ((arrival_time[i]-departure_time[i-1])>0):\n",
    "            wasted_time.append(arrival_time[i]-departure_time[i-1])\n",
    "    return      np.mean(waiting_time),              \\\n",
    "                lost_customers/total_customers,     \\\n",
    "                waiting_customers/num_of_customers, \\\n",
    "                np.mean(num_in_q),                  \\\n",
    "                sum(wasted_time)/departure_time[-1]"
   ]
  },
  {
   "cell_type": "markdown",
   "metadata": {},
   "source": [
    "**Run algo**"
   ]
  },
  {
   "cell_type": "code",
   "execution_count": null,
   "metadata": {},
   "outputs": [],
   "source": [
    "avg_total_time,         \\\n",
    "lost_customers_prob,    \\\n",
    "waiting_customers_prob, \\\n",
    "avg_num_in_q,           \\\n",
    "wasted_time_prob        = MM1Ksimulation(capacity = 250, lmbd = 1/99, mu = 1/5, timeout = 1)\n",
    "print(\"Среднее время пребывания в системе\",avg_total_time)\n",
    "print(\"Вероятность ухода посетителя\",lost_customers_prob)\n",
    "print(\"Вероятность ожидания\", waiting_customers_prob)\n",
    "print(\"Среднее количество людей в очереди\",avg_num_in_q)\n",
    "print(\"Вероятность простоя системы\",wasted_time_prob)"
   ]
  },
  {
   "cell_type": "markdown",
   "metadata": {},
   "source": [
    "# Queuing system characteristics"
   ]
  },
  {
   "cell_type": "markdown",
   "metadata": {},
   "source": [
    "# Tests"
   ]
  },
  {
   "cell_type": "code",
   "execution_count": null,
   "metadata": {},
   "outputs": [],
   "source": [
    "def print_metrix(parameters, avg_t_t, lost_cust_p, waiting_cust_p, avg_len, wasted_t_p):\n",
    "    _, axs = plt.subplots(3, 2,figsize=(15,10))\n",
    "\n",
    "    axs[0][0].plot(parameters, avg_t_t)\n",
    "    axs[0][0].set_title('Среднее время нахождения в очереди')\n",
    "\n",
    "    axs[0][1].plot(parameters, lost_cust_p)\n",
    "    axs[0][1].set_title('Вероятность отказа')\n",
    "\n",
    "    axs[1][0].plot(parameters, waiting_cust_p)\n",
    "    axs[1][0].set_title('Вероятность ожидания')\n",
    "\n",
    "    axs[1][1].plot(parameters, avg_len)\n",
    "    axs[1][1].set_title('Средняя длина очереди')\n",
    "\n",
    "    axs[2][0].plot(parameters, wasted_t_p)\n",
    "    axs[2][0].set_title('Вероятность простоя системы')"
   ]
  },
  {
   "cell_type": "markdown",
   "metadata": {},
   "source": [
    "**lambda = mu**"
   ]
  },
  {
   "cell_type": "code",
   "execution_count": null,
   "metadata": {},
   "outputs": [],
   "source": [
    "avg_t_t, lost_cust_p, waiting_cust_p, avg_len, wasted_t_p = [], [], [], [], []\n",
    "\n",
    "parameters = np.arange(0.01, 1, 0.01)\n",
    "for mu in parameters:\n",
    "    lmbd = mu\n",
    "    np.random.seed(int(lmbd*100))\n",
    "    avg_total_time, lost_customers_prob, waiting_customers_prob, avg_num_in_q, wasted_time_prob = MM1Ksimulation(capacity = 10, lmbd = lmbd, mu = mu, timeout = 0.05)\n",
    "    avg_t_t.append(avg_total_time)\n",
    "    lost_cust_p.append(lost_customers_prob)\n",
    "    waiting_cust_p.append(waiting_customers_prob)\n",
    "    avg_len.append(avg_num_in_q)\n",
    "    wasted_t_p.append(wasted_time_prob)\n",
    "\n",
    "print_metrix(parameters, avg_t_t, lost_cust_p, waiting_cust_p, avg_len, wasted_t_p)"
   ]
  },
  {
   "cell_type": "markdown",
   "metadata": {},
   "source": [
    "Мемс уменьшением параметров на графе"
   ]
  },
  {
   "cell_type": "code",
   "execution_count": null,
   "metadata": {},
   "outputs": [],
   "source": [
    "import matplotlib.pyplot as plt\n",
    "import numpy as np\n",
    "\n",
    "s = []\n",
    "mu = 1\n",
    "t = np.arange(0.01, mu/2, 0.01)\n",
    "#  УМЕНЬШЕНИЕ lambda все нормас\n",
    "for lmbd in reversed(parameters):\n",
    "    np.random.seed(int(lmbd*100))\n",
    "    avg_total_time, lost_customers_prob, waiting_customers_prob, avg_num_in_q, wasted_time_prob = MM1Ksimulation(capacity = 10, lmbd = lmbd, mu = mu, timeout = 0.05)\n",
    "    s.append(avg_total_time)\n",
    "\n",
    "fig, ax = plt.subplots()\n",
    "\n",
    "ax.plot(t, s)\n",
    "ax.set_xlim(parameters[-1], parameters[0])  # decreasing time\n",
    "ax.set_xlabel('decreasing time (s)')\n",
    "ax.set_ylabel('voltage (mV)')\n",
    "ax.set_title('Should be growing...')\n",
    "ax.grid(True)\n",
    "\n",
    "plt.show()"
   ]
  },
  {
   "cell_type": "markdown",
   "metadata": {},
   "source": [
    "**lambda<mu**"
   ]
  },
  {
   "cell_type": "code",
   "execution_count": null,
   "metadata": {},
   "outputs": [],
   "source": [
    "avg_t_t, lost_cust_p, waiting_cust_p, avg_len, wasted_t_p =[], [], [], [], []\n",
    "mu = 1\n",
    "parameters = np.arange(0.01, mu/2, 0.01)\n",
    "#  УМЕНЬШЕНИЕ lambda все нормас\n",
    "for lmbd in parameters:\n",
    "    np.random.seed(int(lmbd*100))\n",
    "    avg_total_time, lost_customers_prob, waiting_customers_prob, avg_num_in_q, wasted_time_prob = MM1Ksimulation(capacity = 10, lmbd = lmbd, mu = mu, timeout = 0.05)\n",
    "    avg_t_t.append(avg_total_time)\n",
    "    lost_cust_p.append(lost_customers_prob)\n",
    "    waiting_cust_p.append(waiting_customers_prob)\n",
    "    avg_len.append(avg_num_in_q)\n",
    "    wasted_t_p.append(wasted_time_prob)\n",
    "\n",
    "print_metrix(parameters, avg_t_t, lost_cust_p, waiting_cust_p, avg_len, wasted_t_p)"
   ]
  },
  {
   "cell_type": "markdown",
   "metadata": {},
   "source": [
    "**lambda>mu**"
   ]
  },
  {
   "cell_type": "code",
   "execution_count": null,
   "metadata": {},
   "outputs": [],
   "source": [
    "#metrics\n",
    "avg_t_t,lost_cust_p,waiting_cust_p,avg_len,wasted_t_p =[],[],[],[],[]\n",
    "lmbd = 1\n",
    "parameters = np.arange(0.01, lmbd/2, 0.01)\n",
    "#  УМЕНЬШЕНИЕ mu все нормас\n",
    "for mu in parameters:\n",
    "    np.random.seed(int(mu*100))\n",
    "    avg_total_time, lost_customers_prob, waiting_customers_prob, avg_num_in_q, wasted_time_prob = MM1Ksimulation(10, lmbd, mu, 0.05)\n",
    "    avg_t_t.append(avg_total_time)\n",
    "    lost_cust_p.append(lost_customers_prob)\n",
    "    waiting_cust_p.append(waiting_customers_prob)\n",
    "    avg_len.append(avg_num_in_q)\n",
    "    wasted_t_p.append(wasted_time_prob)\n",
    "\n",
    "print_metrix(parameters, avg_t_t, lost_cust_p, waiting_cust_p, avg_len, wasted_t_p)"
   ]
  },
  {
   "cell_type": "markdown",
   "metadata": {},
   "source": [
    "**Зафиксируем lambda=5 и mu=2.5 и проведем эксперименты с различными длинами очереди**"
   ]
  },
  {
   "cell_type": "code",
   "execution_count": null,
   "metadata": {},
   "outputs": [],
   "source": [
    "#metrics\n",
    "avg_t_t,lost_cust_p,waiting_cust_p,avg_len,wasted_t_p =[],[],[],[],[]\n",
    "capacity = 100\n",
    "parameters = np.arange(1, capacity, 1)\n",
    "for cap in parameters:\n",
    "    np.random.seed(int(cap*100))\n",
    "    avg_total_time, lost_customers_prob, waiting_customers_prob, avg_num_in_q, wasted_time_prob = MM1Ksimulation(cap, 0.5, 0.5, 0.05)\n",
    "    avg_t_t.append(avg_total_time)\n",
    "    lost_cust_p.append(lost_customers_prob)\n",
    "    waiting_cust_p.append(waiting_customers_prob)\n",
    "    avg_len.append(avg_num_in_q)\n",
    "    wasted_t_p.append(wasted_time_prob)\n",
    "    \n",
    "print_metrix(parameters, avg_t_t, lost_cust_p, waiting_cust_p, avg_len, wasted_t_p)"
   ]
  },
  {
   "cell_type": "markdown",
   "metadata": {},
   "source": [
    "# SHIT"
   ]
  },
  {
   "cell_type": "code",
   "execution_count": null,
   "metadata": {},
   "outputs": [],
   "source": [
    "def print_some_metrics(_capacity, _lambda, _mu, _timeout):\n",
    "    avg_total_time,         \\\n",
    "    lost_customers_prob,    \\\n",
    "    waiting_customers_prob, \\\n",
    "    avg_num_in_q,           \\\n",
    "    wasted_time_prob        = MM1Ksimulation(capacity = _capacity, lmbd = _lambda, mu = _mu, timeout = _timeout)\n",
    "    print(\"Среднее время пребывания в системе\",avg_total_time)\n",
    "    print(\"Вероятность ухода посетителя\",lost_customers_prob)\n",
    "    print(\"Вероятность ожидания\", waiting_customers_prob)\n",
    "    print(\"Среднее количество людей в очереди\",avg_num_in_q)\n",
    "    print(\"Вероятность простоя системы\",wasted_time_prob)\n",
    "\n"
   ]
  },
  {
   "cell_type": "code",
   "execution_count": null,
   "metadata": {},
   "outputs": [],
   "source": [
    "lambdas = list(np.linspace(0.03, 1, 10))\n",
    "mus = list(np.linspace(0.03, 1, 10))\n",
    "capacities = [x for x in range(50, 300, 50)]\n",
    "timeouts = [x for x in range(1, 20, 3)]\n",
    "#print(lambdas, mus, capacity, timeouts)\n",
    "# for capacity in capacities:\n",
    "#     for timeout in timeouts:\n",
    "capacity = 50\n",
    "timeout = 2\n",
    "for lmbd in lambdas:\n",
    "    for mu in mus:\n",
    "        print(f\"Lambda = {lmbd}, Mu = {mu}, capacity = {capacity}, timeout = {timeout}\\n\")\n",
    "        print_some_metrics(capacity, lmbd, mu, timeout)\n",
    "        print()\n"
   ]
  }
 ],
 "metadata": {
  "kernelspec": {
   "display_name": "Python 3",
   "language": "python",
   "name": "python3"
  },
  "language_info": {
   "codemirror_mode": {
    "name": "ipython",
    "version": 3
   },
   "file_extension": ".py",
   "mimetype": "text/x-python",
   "name": "python",
   "nbconvert_exporter": "python",
   "pygments_lexer": "ipython3",
   "version": "3.10.2"
  }
 },
 "nbformat": 4,
 "nbformat_minor": 4
}
